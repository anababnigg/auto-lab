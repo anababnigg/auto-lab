{
 "cells": [
  {
   "cell_type": "code",
   "execution_count": 386,
   "metadata": {},
   "outputs": [],
   "source": [
    "# imports\n",
    "import pandas as pd\n",
    "import numpy as np\n",
    "import xlrd as xl\n",
    "import matplotlib.pyplot as plt\n",
    "import os\n",
    "import glob"
   ]
  },
  {
   "cell_type": "code",
   "execution_count": 387,
   "metadata": {},
   "outputs": [
    {
     "data": {
      "text/html": [
       "<div>\n",
       "<style scoped>\n",
       "    .dataframe tbody tr th:only-of-type {\n",
       "        vertical-align: middle;\n",
       "    }\n",
       "\n",
       "    .dataframe tbody tr th {\n",
       "        vertical-align: top;\n",
       "    }\n",
       "\n",
       "    .dataframe thead th {\n",
       "        text-align: right;\n",
       "    }\n",
       "</style>\n",
       "<table border=\"1\" class=\"dataframe\">\n",
       "  <thead>\n",
       "    <tr style=\"text-align: right;\">\n",
       "      <th></th>\n",
       "      <th>Filename</th>\n",
       "      <th>Holder</th>\n",
       "      <th>Well</th>\n",
       "      <th>Signal</th>\n",
       "      <th>RT [min]</th>\n",
       "      <th>Type</th>\n",
       "      <th>Width [min]</th>\n",
       "      <th>Area</th>\n",
       "      <th>Height</th>\n",
       "      <th>Peak Symmetry</th>\n",
       "    </tr>\n",
       "  </thead>\n",
       "  <tbody>\n",
       "  </tbody>\n",
       "</table>\n",
       "</div>"
      ],
      "text/plain": [
       "Empty DataFrame\n",
       "Columns: [Filename, Holder, Well, Signal, RT [min], Type, Width [min], Area, Height, Peak Symmetry]\n",
       "Index: []"
      ]
     },
     "execution_count": 387,
     "metadata": {},
     "output_type": "execute_result"
    }
   ],
   "source": [
    "#initialize main dataframe \n",
    "df = pd.DataFrame(columns=['Filename', 'Holder', 'Well', 'Signal', 'RT [min]', 'Type', 'Width [min]', 'Area', 'Height', 'Peak Symmetry'])\n",
    "df"
   ]
  },
  {
   "cell_type": "code",
   "execution_count": 388,
   "metadata": {},
   "outputs": [
    {
     "name": "stdout",
     "output_type": "stream",
     "text": [
      "C:\\Users\\aniko\\repo\\auto-lab\\data\\2022-03-10_t44_L1-15_triplicate.01 2022-03-10 09-34-30\\001-P1-A1-A1.D\\IRReport_2022-03-10_t44_L1-15_triplicate.0110 Mar 22   9_36 am -0600.XLS\n"
     ]
    }
   ],
   "source": [
    "#iterates though a directory to find all possible excel files. path can be changed. \n",
    "#can change to an input if needed\n",
    "path = r\"C:\\Users\\aniko\\repo\\auto-lab\\data\\2022-03-10_t44_L1-15_triplicate.01 2022-03-10 09-34-30\"\n",
    "\n",
    "files_list = []\n",
    "for root, directories, files in os.walk(path):\n",
    "\tfor name in files:\n",
    "\t\tsuffix = os.path.splitext(name)[-1]\n",
    "\t\tif(suffix == \".XLS\"):\n",
    "\t\t\tfiles_list.append(os.path.join(root, name))\n",
    "\n",
    "print(files_list[0])"
   ]
  },
  {
   "cell_type": "code",
   "execution_count": 389,
   "metadata": {},
   "outputs": [],
   "source": [
    "def find_file(tester):\n",
    "       datafile = \"\"\n",
    "       holder = \"\"\n",
    "       well = \"\"\n",
    "       #using exceptions to break out of a double for loop :3\n",
    "       class FileFound(Exception): pass\n",
    "       try:\n",
    "              for r in range (tester.shape[0]):\n",
    "                     for c in range (tester.shape[1]):\n",
    "                            if(tester.iat[r,c] == \"Data file:\"):\n",
    "                                   raise FileFound\n",
    "       except FileFound:\n",
    "              datafile = tester.iat[r, c + 6]\n",
    "\n",
    "       return datafile"
   ]
  },
  {
   "cell_type": "code",
   "execution_count": 390,
   "metadata": {},
   "outputs": [],
   "source": [
    "def find_details(filename):\n",
    "    fn_list = filename.split(\"\\\\\")\n",
    "    detail = fn_list[-1]\n",
    "    detail_list = detail.split(\"-\")\n",
    "    return detail_list"
   ]
  },
  {
   "cell_type": "code",
   "execution_count": 391,
   "metadata": {},
   "outputs": [],
   "source": [
    "\n",
    "def sig_iterator(row, col, filename, holder, well, tester):\n",
    "    sig_name = tester.iat[row, col + 2]\n",
    "    datarow = []\n",
    "    \n",
    "    #loops until end of signal information\n",
    "    class SingleSig(Exception): pass\n",
    "\n",
    "    try:\n",
    "        for r in range (row + 2, tester.shape[0]):\n",
    "            datarow = [filename, holder, well, sig_name]\n",
    "            for c in range (col, tester.shape[1]):\n",
    "                if(tester.iat[r,c] == \"Sum\"):\n",
    "                    raise SingleSig\n",
    "                if(pd.notnull(tester.iat[r,c])):\n",
    "                    datarow.append(tester.iat[r,c])\n",
    "\n",
    "            #append row to the dataframe        \n",
    "            df.loc[len(df)] = datarow\n",
    "\n",
    "    except SingleSig:\n",
    "        ..."
   ]
  },
  {
   "cell_type": "code",
   "execution_count": 392,
   "metadata": {},
   "outputs": [],
   "source": [
    "#main reader method: xls reader\n",
    "#may need input as xls file\n",
    "def xls_reader(tester):\n",
    "    #finds filename and details:\n",
    "    filename = find_file(tester)\n",
    "    details = find_details(filename)\n",
    "    holder = details[1]\n",
    "    well = details[2]\n",
    "\n",
    "    #checks for signals    \n",
    "    for r in range (tester.shape[0]):\n",
    "        for c in range (tester.shape[1]):\n",
    "            if(tester.iat[r, c] == \"Signal:\"):\n",
    "                sig_iterator(r, c, filename, holder, well, tester)"
   ]
  },
  {
   "cell_type": "code",
   "execution_count": 393,
   "metadata": {},
   "outputs": [],
   "source": [
    "#iterator that houses main reader method\n",
    "def lab_cleaner():\n",
    "    for l in range (len(files_list)):\n",
    "        #create new instance of 'tester'\n",
    "        tester = pd.read_excel(files_list[l])\n",
    "        #read tester\n",
    "        xls_reader(tester)\n",
    "\n",
    "\n",
    "lab_cleaner()"
   ]
  },
  {
   "cell_type": "code",
   "execution_count": 394,
   "metadata": {},
   "outputs": [],
   "source": [
    "def to_xls(df):\n",
    "    excelname = \"Summary_\" + path.split(\"\\\\\")[-1] + \".xlsx\"\n",
    "    #write to xls file with 'excelname'\n",
    "    with pd.ExcelWriter(excelname) as writer:  \n",
    "        df.to_excel(writer)\n",
    "\n",
    "to_xls(df)\n"
   ]
  }
 ],
 "metadata": {
  "kernelspec": {
   "display_name": "Python 3.10.7 64-bit",
   "language": "python",
   "name": "python3"
  },
  "language_info": {
   "codemirror_mode": {
    "name": "ipython",
    "version": 3
   },
   "file_extension": ".py",
   "mimetype": "text/x-python",
   "name": "python",
   "nbconvert_exporter": "python",
   "pygments_lexer": "ipython3",
   "version": "3.10.7"
  },
  "orig_nbformat": 4,
  "vscode": {
   "interpreter": {
    "hash": "02dc2f7eb111b45208dda2138ea59acf9be92fe580dee25ec16d6861a495daef"
   }
  }
 },
 "nbformat": 4,
 "nbformat_minor": 2
}
